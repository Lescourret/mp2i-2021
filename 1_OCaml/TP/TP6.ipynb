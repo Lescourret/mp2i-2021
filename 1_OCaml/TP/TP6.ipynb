{
 "cells": [
  {
   "cell_type": "markdown",
   "metadata": {},
   "source": [
    "# TP 6 : types construits"
   ]
  },
  {
   "cell_type": "markdown",
   "metadata": {},
   "source": [
    "## Gestion des overflow\n",
    "\n",
    "On considère le type suivant :"
   ]
  },
  {
   "cell_type": "code",
   "execution_count": 3,
   "metadata": {},
   "outputs": [
    {
     "data": {
      "text/plain": [
       "type entier = Infini | MoinsInfini | Entier of int\n"
      ]
     },
     "execution_count": 3,
     "metadata": {},
     "output_type": "execute_result"
    }
   ],
   "source": [
    "type entier = Infini | MoinsInfini | Entier of int"
   ]
  },
  {
   "cell_type": "markdown",
   "metadata": {},
   "source": [
    "On rappelle que `max_int` est le plus grand entier représentable en OCaml et `min_int` le plus petit :"
   ]
  },
  {
   "cell_type": "code",
   "execution_count": null,
   "metadata": {},
   "outputs": [],
   "source": [
    "max_int;;\n",
    "min_int;;\n",
    "max_int + 1;;  (* un dépassement du plus grand entier donne le plus petit *)"
   ]
  },
  {
   "cell_type": "markdown",
   "metadata": {},
   "source": [
    "On voudrait pouvoir additionner deux `entier` $a$ et $b$ en prennant en compte les dépassements de `int` (integer overflow), et en donnant `Infini` dans ce cas.  \n",
    "1. Pourquoi ne peut-on pas tout simplement tester si $a + b >$ `max_int` ?   \n",
    "2. Pourquoi peut-on tester à la place si `max_int` $ - ~a \\leq b$ avec $a \\geq 0$ ?\n",
    "3. Quel test similaire pourrait-on utiliser pour savoir si $a + b <$ `min_int` ?\n",
    "4. Écrire une fonction `add_int : int -> int -> entier` telle que `add_int` ajoute 2 `int`en tenant compte des dépassements (on renvoie `Infini` s'il y a un dépassement de `max_int` et `MoinsInfini` s'il y a un dépassement de `min_int` par le bas).  \n",
    "5. Écrire une fonction `add : entier -> entier -> entier` ajoutant 2 entiers en tenant compte des dépassements.  \n",
    "On pourra écrire `failwith \"Indeterminé\"` dans le cas d'une forme indéterminé.\n",
    "6. Écrire une fonction `oppose : entier -> entier` renvoyant l'opposé d'un entier. Par exemple, `oppose Infini` renvoie `MoinsInfini`, `oppose (Entier a)` renvoie `Entier (-a)...`\n",
    "7. Écrire une fonction `sub` effectuant la soustraction.\n",
    "8. Pour savoir si $a \\times b$ fait un dépassement, on propose la façon suivante :\n",
    "- Calculer $c = a \\times b$\n",
    "- Regarder si $c/a$ est égal à $b$  \n",
    "Pourquoi cela fonctionne ? À quelle autre erreur faut-il faire attention dans cette méthode ?\n",
    "9. Écrire une fonction `mult : entier -> entier -> entier` multipliant 2 entiers en tenant compte des dépassements"
   ]
  },
  {
   "cell_type": "markdown",
   "metadata": {},
   "source": [
    "1. Par définition, aucun entier ne peut être supérieur à `max_int`.\n",
    "2. Déjà, $a + b >$ `max_int` implique que $a \\geq 0$ (car $b$ est un entier dans est inférieur à `max_int`). De plus `max_int` $- a$ n'effectue pas de dépassement. Donc le test fonctionne sans risque de dépassement.\n",
    "3. $a + b < $`min_int` se réécrit en $a < 0$ et `min_int`$ - a > b$.  "
   ]
  },
  {
   "cell_type": "code",
   "execution_count": null,
   "metadata": {},
   "outputs": [],
   "source": [
    "(*4*)\n",
    "let add int a b = match a, b with\n",
    " |( a>b || min_int -b< a) -> Infini\n",
    " |(a<b || min_int -b<a) -> MoinsInfini\n",
    " | (a+b);;"
   ]
  },
  {
   "cell_type": "code",
   "execution_count": 14,
   "metadata": {},
   "outputs": [
    {
     "data": {
      "text/plain": [
       "val add : ('a -> entier * entier) -> 'a -> entier = <fun>\n"
      ]
     },
     "execution_count": 14,
     "metadata": {},
     "output_type": "execute_result"
    }
   ],
   "source": [
    "(*5*)\n",
    "let add a b = match a b with \n",
    "    |Entier(a), Entier(b) when max_int - a <= b-> Infini\n",
    "    |Entier (a), Entier (b) when min_int + a >=b -> MoinsInfini\n",
    "    |Infini, Entier (_)|Entier (_), Infini-> Infini\n",
    "    |MoinsInfini,Entier (_) | Entier (_), MoinsInfini -> MoinsInfini\n",
    "    |Entier (a1), Entier (b1) -> Entier (a1 + b1)\n",
    "    |_-> failwith \"indetermine\""
   ]
  },
  {
   "cell_type": "code",
   "execution_count": 4,
   "metadata": {},
   "outputs": [],
   "source": [
    "(*6*)\n",
    "let oppose a = match a with\n",
    "    |infini -> MoinsInfini\n",
    "    |moinsinfini -> Infini\n",
    "    |entier (a1) when a1= min_int -> Infini\n",
    "    |entier (a1) -> Entier (-a1)\n",
    "    "
   ]
  },
  {
   "cell_type": "code",
   "execution_count": null,
   "metadata": {},
   "outputs": [],
   "source": [
    "let rec mult a b = match a b with\n",
    "    |Infini, Infini | Infini, MoinsInfini -> MoinsInfini\n",
    "    |MoinsInfini, Infini | Infini, MoinsInfini -> MoinsInfini\n",
    "    |MoinsInfini, Entier (e) | Entier (e), MoinsInfiniwhen e>0 -> MoinsInfini\n",
    "    |MoinsInfini, Entier (e)| Entier (e), MoinsInfini when e<0 ->  Infini\n",
    "    |Infini, Entier (a) | Entier (a), Infini when e<0 -> MoinsInfini\n",
    "    |Infini, Entier (e) | Entier (e), Infini when e>0 ->Infini\n",
    "    |Entier (a), Entier (b) -> if a = 0 then Entier (0)\n",
    "                                else let c = a*b in\n",
    "                                if c/a=b then Entier (a*b)\n",
    "                                else mult (mult(Infini) (Entier (a)) (Entier (b));\n",
    "    | _->fail"
   ]
  },
  {
   "cell_type": "markdown",
   "metadata": {},
   "source": [
    "## Tableaux dynamiques\n",
    "\n",
    "Il est impossible d'ajouter ou supprimer un élément dans tableau (`array`) en OCaml.  \n",
    "Les tableaux dynamiques (ou : redimensionnables) permettent d'ajouter un élément `e`, en recréant un tableau plus grand dans lequel on recopie tous les éléments ainsi que `e`.  \n",
    "Voici la définition de tableau dynamique que nous allons utiliser :"
   ]
  },
  {
   "cell_type": "code",
   "execution_count": null,
   "metadata": {},
   "outputs": [],
   "source": [
    "type 'a array_dyn = {mutable t : 'a array; mutable n : int};;"
   ]
  },
  {
   "cell_type": "markdown",
   "metadata": {},
   "source": [
    "`n` indique le nombre de cases du tableau `t` que l'on considère comme faisant partie du tableau dynamique. Les indices au delà de `n` dans `t` sont ignorés.  \n",
    "À chaque fois que l'on voudra ajouter un élément `e` à un tableau dynamique `d` :\n",
    "- s'il reste de la place dans `d.t` (c'est à dire si `d.n < Array.length t`), on met `e` dans `e` dans `d.t.(n)` et on met à jour `d.n`\n",
    "- sinon, on créé un nouveau tableau `t'` de taille `2n`, on recopie `d.t` dedans, on ajoute `e` puis on remplace `d.t` par `t'.`"
   ]
  },
  {
   "cell_type": "markdown",
   "metadata": {},
   "source": [
    "1. Écrire une fonction `add` ajoutant un élément dans un `array_dyn`. \n",
    "2. Quelle est la complexité dans le pire cas de `add` ?\n",
    "3. On suppose que l'on ajoute $n$ éléments (avec `add` à un tableau dynamique de taille initiale 1. Montrer que la complexité totale de ces $n$ opérations est O($n$) (autrement dit, la complexité moyenne ou **complexité amortie** d'une opération est O(1))"
   ]
  },
  {
   "cell_type": "code",
   "execution_count": 9,
   "metadata": {},
   "outputs": [
    {
     "ename": "error",
     "evalue": "compile_error",
     "output_type": "error",
     "traceback": [
      "File \"[9]\", line 4, characters 8-11:\n4 |         for i = 0 to Array.length t-1 do\n            ^^^\nError: Syntax error\n"
     ]
    }
   ],
   "source": [
    "let rec add t e = \n",
    "    let t = ref d.t.(0)  in\n",
    "    let t' = ref 2*d.t.(n)\n",
    "        for i = 0 to Array.length t-1 do\n",
    "    if t = [||] then [|e|]\n",
    "    else if d.n < Array.length t then dn := !dn + e\n",
    "    else Array.copy t then add e \n",
    "    done;\n",
    "    !t';;\n",
    "    \n",
    " \n",
    "   \n",
    "    "
   ]
  },
  {
   "cell_type": "code",
   "execution_count": null,
   "metadata": {},
   "outputs": [],
   "source": []
  },
  {
   "cell_type": "markdown",
   "metadata": {},
   "source": []
  }
 ],
 "metadata": {
  "kernelspec": {
   "display_name": "OCaml default",
   "language": "OCaml",
   "name": "ocaml-jupyter"
  },
  "language_info": {
   "codemirror_mode": "text/x-ocaml",
   "file_extension": ".ml",
   "mimetype": "text/x-ocaml",
   "name": "OCaml",
   "nbconverter_exporter": null,
   "pygments_lexer": "OCaml",
   "version": "4.08.1"
  }
 },
 "nbformat": 4,
 "nbformat_minor": 4
}
